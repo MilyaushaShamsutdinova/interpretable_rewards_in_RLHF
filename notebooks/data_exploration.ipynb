{
 "cells": [
  {
   "cell_type": "markdown",
   "id": "ad6ccf81",
   "metadata": {},
   "source": [
    "<!-- ## Dataset exploration -->\n",
    "\n",
    "# Dataset exploration and preparation for RL\n",
    "\n",
    "Dataset: [nvidia/HelpSteer2](https://huggingface.co/datasets/nvidia/HelpSteer2)"
   ]
  },
  {
   "cell_type": "markdown",
   "id": "fc2e6340",
   "metadata": {},
   "source": [
    "### Exploration"
   ]
  },
  {
   "cell_type": "code",
   "execution_count": 1,
   "id": "eb337052",
   "metadata": {},
   "outputs": [],
   "source": [
    "%%capture\n",
    "!pip install datasets"
   ]
  },
  {
   "cell_type": "code",
   "execution_count": 4,
   "id": "bb951d14",
   "metadata": {},
   "outputs": [
    {
     "data": {
      "text/plain": [
       "DatasetDict({\n",
       "    train: Dataset({\n",
       "        features: ['prompt', 'response', 'helpfulness', 'correctness', 'coherence', 'complexity', 'verbosity'],\n",
       "        num_rows: 20324\n",
       "    })\n",
       "    validation: Dataset({\n",
       "        features: ['prompt', 'response', 'helpfulness', 'correctness', 'coherence', 'complexity', 'verbosity'],\n",
       "        num_rows: 1038\n",
       "    })\n",
       "})"
      ]
     },
     "execution_count": 4,
     "metadata": {},
     "output_type": "execute_result"
    }
   ],
   "source": [
    "from datasets import load_dataset\n",
    "from src import config\n",
    "\n",
    "ds = load_dataset(config.DATASET_NAME)\n",
    "ds"
   ]
  },
  {
   "cell_type": "code",
   "execution_count": 5,
   "id": "fe7a8d4d",
   "metadata": {},
   "outputs": [
    {
     "data": {
      "text/plain": [
       "{'prompt': 'Create a product requirement for a complete self-directed online exchange process  for theater tickets using user stories',\n",
       " 'response': 'As a user, I want to be able to browse and search for available theater tickets online, so that I can easily find and purchase the tickets I need for my desired show.\\n\\nAs a user, I want to be able to select my preferred seat(s) for the show, so that I can ensure that I have a good view of the stage.\\n\\nAs a user, I want to be able to complete the payment process securely and quickly, so that I can complete my purchase in a timely manner.\\n\\nAs a user, I want to be able to receive my tickets electronically, so that I can access them easily and avoid the hassle of carrying physical tickets.\\n\\nAs a user, I want to be able to manage my bookings and access my tickets easily, so that I can have a seamless experience from start to finish.\\n\\nAs a user, I want to be able to contact customer support if I have any questions or issues, so that I can receive the help and assistance I need.',\n",
       " 'helpfulness': 1,\n",
       " 'correctness': 1,\n",
       " 'coherence': 3,\n",
       " 'complexity': 1,\n",
       " 'verbosity': 1}"
      ]
     },
     "execution_count": 5,
     "metadata": {},
     "output_type": "execute_result"
    }
   ],
   "source": [
    "ds[\"train\"][128]"
   ]
  },
  {
   "cell_type": "code",
   "execution_count": 6,
   "id": "0bd5a5b9",
   "metadata": {},
   "outputs": [],
   "source": [
    "import pandas as pd\n",
    "\n",
    "train_df = ds['train'].to_pandas()\n",
    "validation_df = ds['validation'].to_pandas()"
   ]
  },
  {
   "cell_type": "code",
   "execution_count": 7,
   "id": "319e038e",
   "metadata": {},
   "outputs": [
    {
     "name": "stdout",
     "output_type": "stream",
     "text": [
      "<class 'pandas.core.frame.DataFrame'>\n",
      "RangeIndex: 20324 entries, 0 to 20323\n",
      "Data columns (total 7 columns):\n",
      " #   Column       Non-Null Count  Dtype \n",
      "---  ------       --------------  ----- \n",
      " 0   prompt       20324 non-null  object\n",
      " 1   response     20324 non-null  object\n",
      " 2   helpfulness  20324 non-null  int64 \n",
      " 3   correctness  20324 non-null  int64 \n",
      " 4   coherence    20324 non-null  int64 \n",
      " 5   complexity   20324 non-null  int64 \n",
      " 6   verbosity    20324 non-null  int64 \n",
      "dtypes: int64(5), object(2)\n",
      "memory usage: 1.1+ MB\n"
     ]
    }
   ],
   "source": [
    "train_df.info()"
   ]
  },
  {
   "cell_type": "code",
   "execution_count": 8,
   "id": "c99dde23",
   "metadata": {},
   "outputs": [
    {
     "name": "stdout",
     "output_type": "stream",
     "text": [
      "<class 'pandas.core.frame.DataFrame'>\n",
      "RangeIndex: 1038 entries, 0 to 1037\n",
      "Data columns (total 7 columns):\n",
      " #   Column       Non-Null Count  Dtype \n",
      "---  ------       --------------  ----- \n",
      " 0   prompt       1038 non-null   object\n",
      " 1   response     1038 non-null   object\n",
      " 2   helpfulness  1038 non-null   int64 \n",
      " 3   correctness  1038 non-null   int64 \n",
      " 4   coherence    1038 non-null   int64 \n",
      " 5   complexity   1038 non-null   int64 \n",
      " 6   verbosity    1038 non-null   int64 \n",
      "dtypes: int64(5), object(2)\n",
      "memory usage: 56.9+ KB\n"
     ]
    }
   ],
   "source": [
    "validation_df.info()"
   ]
  },
  {
   "cell_type": "code",
   "execution_count": 9,
   "id": "b23cfc5a",
   "metadata": {},
   "outputs": [
    {
     "data": {
      "text/html": [
       "<div>\n",
       "<style scoped>\n",
       "    .dataframe tbody tr th:only-of-type {\n",
       "        vertical-align: middle;\n",
       "    }\n",
       "\n",
       "    .dataframe tbody tr th {\n",
       "        vertical-align: top;\n",
       "    }\n",
       "\n",
       "    .dataframe thead th {\n",
       "        text-align: right;\n",
       "    }\n",
       "</style>\n",
       "<table border=\"1\" class=\"dataframe\">\n",
       "  <thead>\n",
       "    <tr style=\"text-align: right;\">\n",
       "      <th></th>\n",
       "      <th>helpfulness</th>\n",
       "      <th>correctness</th>\n",
       "      <th>coherence</th>\n",
       "      <th>complexity</th>\n",
       "      <th>verbosity</th>\n",
       "    </tr>\n",
       "  </thead>\n",
       "  <tbody>\n",
       "    <tr>\n",
       "      <th>count</th>\n",
       "      <td>20324.000000</td>\n",
       "      <td>20324.000000</td>\n",
       "      <td>20324.000000</td>\n",
       "      <td>20324.000000</td>\n",
       "      <td>20324.000000</td>\n",
       "    </tr>\n",
       "    <tr>\n",
       "      <th>mean</th>\n",
       "      <td>2.864052</td>\n",
       "      <td>2.962655</td>\n",
       "      <td>3.638998</td>\n",
       "      <td>1.706505</td>\n",
       "      <td>2.002608</td>\n",
       "    </tr>\n",
       "    <tr>\n",
       "      <th>std</th>\n",
       "      <td>1.271479</td>\n",
       "      <td>1.270885</td>\n",
       "      <td>0.648175</td>\n",
       "      <td>0.697536</td>\n",
       "      <td>0.755464</td>\n",
       "    </tr>\n",
       "    <tr>\n",
       "      <th>min</th>\n",
       "      <td>0.000000</td>\n",
       "      <td>0.000000</td>\n",
       "      <td>0.000000</td>\n",
       "      <td>0.000000</td>\n",
       "      <td>0.000000</td>\n",
       "    </tr>\n",
       "    <tr>\n",
       "      <th>25%</th>\n",
       "      <td>2.000000</td>\n",
       "      <td>2.000000</td>\n",
       "      <td>3.000000</td>\n",
       "      <td>1.000000</td>\n",
       "      <td>2.000000</td>\n",
       "    </tr>\n",
       "    <tr>\n",
       "      <th>50%</th>\n",
       "      <td>3.000000</td>\n",
       "      <td>3.000000</td>\n",
       "      <td>4.000000</td>\n",
       "      <td>2.000000</td>\n",
       "      <td>2.000000</td>\n",
       "    </tr>\n",
       "    <tr>\n",
       "      <th>75%</th>\n",
       "      <td>4.000000</td>\n",
       "      <td>4.000000</td>\n",
       "      <td>4.000000</td>\n",
       "      <td>2.000000</td>\n",
       "      <td>2.000000</td>\n",
       "    </tr>\n",
       "    <tr>\n",
       "      <th>max</th>\n",
       "      <td>4.000000</td>\n",
       "      <td>4.000000</td>\n",
       "      <td>4.000000</td>\n",
       "      <td>4.000000</td>\n",
       "      <td>4.000000</td>\n",
       "    </tr>\n",
       "  </tbody>\n",
       "</table>\n",
       "</div>"
      ],
      "text/plain": [
       "        helpfulness   correctness     coherence    complexity     verbosity\n",
       "count  20324.000000  20324.000000  20324.000000  20324.000000  20324.000000\n",
       "mean       2.864052      2.962655      3.638998      1.706505      2.002608\n",
       "std        1.271479      1.270885      0.648175      0.697536      0.755464\n",
       "min        0.000000      0.000000      0.000000      0.000000      0.000000\n",
       "25%        2.000000      2.000000      3.000000      1.000000      2.000000\n",
       "50%        3.000000      3.000000      4.000000      2.000000      2.000000\n",
       "75%        4.000000      4.000000      4.000000      2.000000      2.000000\n",
       "max        4.000000      4.000000      4.000000      4.000000      4.000000"
      ]
     },
     "execution_count": 9,
     "metadata": {},
     "output_type": "execute_result"
    }
   ],
   "source": [
    "train_df.describe()"
   ]
  },
  {
   "cell_type": "code",
   "execution_count": 10,
   "id": "0e319584",
   "metadata": {},
   "outputs": [
    {
     "data": {
      "text/html": [
       "<div>\n",
       "<style scoped>\n",
       "    .dataframe tbody tr th:only-of-type {\n",
       "        vertical-align: middle;\n",
       "    }\n",
       "\n",
       "    .dataframe tbody tr th {\n",
       "        vertical-align: top;\n",
       "    }\n",
       "\n",
       "    .dataframe thead th {\n",
       "        text-align: right;\n",
       "    }\n",
       "</style>\n",
       "<table border=\"1\" class=\"dataframe\">\n",
       "  <thead>\n",
       "    <tr style=\"text-align: right;\">\n",
       "      <th></th>\n",
       "      <th>helpfulness</th>\n",
       "      <th>correctness</th>\n",
       "      <th>coherence</th>\n",
       "      <th>complexity</th>\n",
       "      <th>verbosity</th>\n",
       "    </tr>\n",
       "  </thead>\n",
       "  <tbody>\n",
       "    <tr>\n",
       "      <th>count</th>\n",
       "      <td>1038.000000</td>\n",
       "      <td>1038.000000</td>\n",
       "      <td>1038.000000</td>\n",
       "      <td>1038.000000</td>\n",
       "      <td>1038.000000</td>\n",
       "    </tr>\n",
       "    <tr>\n",
       "      <th>mean</th>\n",
       "      <td>2.893064</td>\n",
       "      <td>2.999037</td>\n",
       "      <td>3.644509</td>\n",
       "      <td>1.672447</td>\n",
       "      <td>1.947013</td>\n",
       "    </tr>\n",
       "    <tr>\n",
       "      <th>std</th>\n",
       "      <td>1.248772</td>\n",
       "      <td>1.230831</td>\n",
       "      <td>0.667342</td>\n",
       "      <td>0.718023</td>\n",
       "      <td>0.786878</td>\n",
       "    </tr>\n",
       "    <tr>\n",
       "      <th>min</th>\n",
       "      <td>0.000000</td>\n",
       "      <td>0.000000</td>\n",
       "      <td>0.000000</td>\n",
       "      <td>0.000000</td>\n",
       "      <td>0.000000</td>\n",
       "    </tr>\n",
       "    <tr>\n",
       "      <th>25%</th>\n",
       "      <td>2.000000</td>\n",
       "      <td>2.000000</td>\n",
       "      <td>3.000000</td>\n",
       "      <td>1.000000</td>\n",
       "      <td>2.000000</td>\n",
       "    </tr>\n",
       "    <tr>\n",
       "      <th>50%</th>\n",
       "      <td>3.000000</td>\n",
       "      <td>3.000000</td>\n",
       "      <td>4.000000</td>\n",
       "      <td>2.000000</td>\n",
       "      <td>2.000000</td>\n",
       "    </tr>\n",
       "    <tr>\n",
       "      <th>75%</th>\n",
       "      <td>4.000000</td>\n",
       "      <td>4.000000</td>\n",
       "      <td>4.000000</td>\n",
       "      <td>2.000000</td>\n",
       "      <td>2.000000</td>\n",
       "    </tr>\n",
       "    <tr>\n",
       "      <th>max</th>\n",
       "      <td>4.000000</td>\n",
       "      <td>4.000000</td>\n",
       "      <td>4.000000</td>\n",
       "      <td>4.000000</td>\n",
       "      <td>4.000000</td>\n",
       "    </tr>\n",
       "  </tbody>\n",
       "</table>\n",
       "</div>"
      ],
      "text/plain": [
       "       helpfulness  correctness    coherence   complexity    verbosity\n",
       "count  1038.000000  1038.000000  1038.000000  1038.000000  1038.000000\n",
       "mean      2.893064     2.999037     3.644509     1.672447     1.947013\n",
       "std       1.248772     1.230831     0.667342     0.718023     0.786878\n",
       "min       0.000000     0.000000     0.000000     0.000000     0.000000\n",
       "25%       2.000000     2.000000     3.000000     1.000000     2.000000\n",
       "50%       3.000000     3.000000     4.000000     2.000000     2.000000\n",
       "75%       4.000000     4.000000     4.000000     2.000000     2.000000\n",
       "max       4.000000     4.000000     4.000000     4.000000     4.000000"
      ]
     },
     "execution_count": 10,
     "metadata": {},
     "output_type": "execute_result"
    }
   ],
   "source": [
    "validation_df.describe()"
   ]
  },
  {
   "cell_type": "markdown",
   "id": "d2771f74",
   "metadata": {},
   "source": [
    "### Preparation"
   ]
  },
  {
   "cell_type": "code",
   "execution_count": null,
   "id": "29e009a3",
   "metadata": {},
   "outputs": [],
   "source": [
    "from data import preprocess_helpsteer\n",
    "\n",
    "rl_dataset = preprocess_helpsteer.load_and_prepare_rl_dataset()"
   ]
  },
  {
   "cell_type": "code",
   "execution_count": 16,
   "id": "6456fc0d",
   "metadata": {},
   "outputs": [
    {
     "name": "stdout",
     "output_type": "stream",
     "text": [
      "RL dataset structure:\n",
      "DatasetDict({\n",
      "    train: Dataset({\n",
      "        features: ['query'],\n",
      "        num_rows: 20324\n",
      "    })\n",
      "    test: Dataset({\n",
      "        features: ['query'],\n",
      "        num_rows: 1038\n",
      "    })\n",
      "})\n",
      "\n",
      "Example RL prompt (train):\n",
      "{'query': 'Define Signal Discuss its various properties with the help of diagram'}\n",
      "\n",
      "Example RL prompt (test):\n",
      "{'query': 'some people appear with excessive fashion or overly exposed body to show off. when i hang with someone like this, what kind of joke can i make?'}\n"
     ]
    }
   ],
   "source": [
    "print(\"RL dataset structure:\")\n",
    "print(rl_dataset)\n",
    "print(\"\\nExample RL prompt (train):\")\n",
    "print(rl_dataset['train'][6])\n",
    "print(\"\\nExample RL prompt (test):\")\n",
    "print(rl_dataset['test'][6])"
   ]
  },
  {
   "cell_type": "code",
   "execution_count": null,
   "id": "05ae808d",
   "metadata": {},
   "outputs": [],
   "source": []
  }
 ],
 "metadata": {
  "kernelspec": {
   "display_name": "venv",
   "language": "python",
   "name": "python3"
  },
  "language_info": {
   "codemirror_mode": {
    "name": "ipython",
    "version": 3
   },
   "file_extension": ".py",
   "mimetype": "text/x-python",
   "name": "python",
   "nbconvert_exporter": "python",
   "pygments_lexer": "ipython3",
   "version": "3.11.9"
  }
 },
 "nbformat": 4,
 "nbformat_minor": 5
}
